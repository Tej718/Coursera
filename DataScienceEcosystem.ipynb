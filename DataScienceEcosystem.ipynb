{
 "cells": [
  {
   "cell_type": "markdown",
   "id": "11a43f93",
   "metadata": {},
   "source": [
    "# Data Science Tools and Ecosystem"
   ]
  },
  {
   "cell_type": "markdown",
   "id": "25376811",
   "metadata": {},
   "source": [
    "In this notebook, Data Science Tools and Ecosystem are summarized."
   ]
  },
  {
   "cell_type": "markdown",
   "id": "e9f6e550",
   "metadata": {},
   "source": [
    "**Objectives:** \n",
    "* List some of the most popular languages in data science\n",
    "* List some commonly used libraries in data science\n",
    "* Know how to make a table in markdown\n",
    "* Know how to calculate arithmetic expressions in Jupyter"
   ]
  },
  {
   "cell_type": "markdown",
   "id": "3bb66e02",
   "metadata": {},
   "source": [
    "Some of the popular languages that Data Scientists use are:\n",
    "1. Python\n",
    "2. R\n",
    "3. SQL"
   ]
  },
  {
   "cell_type": "markdown",
   "id": "f40c1342",
   "metadata": {},
   "source": [
    "Some of the commonly used libraries used by Data Scientists include:\n",
    "1. dplyr\n",
    "2. caret\n",
    "3. ggplot\n",
    "4. plotly\n",
    "5. sklearn\n",
    "6. numpy\n",
    "7. pandas"
   ]
  },
  {
   "cell_type": "markdown",
   "id": "5d4ef975",
   "metadata": {},
   "source": [
    "| Data Science Tools | \n",
    "|---------------|\n",
    "| R Studio |\n",
    "| Anaconda |\n",
    "| MySQL |\n",
    "| VS Code |\n",
    "| Jupyter |"
   ]
  },
  {
   "cell_type": "markdown",
   "id": "58e4297d",
   "metadata": {},
   "source": [
    "### Below are a few examples of evaluating arithmetic expressions in Python. "
   ]
  },
  {
   "cell_type": "code",
   "execution_count": 1,
   "id": "7a0bc94b",
   "metadata": {},
   "outputs": [
    {
     "name": "stdout",
     "output_type": "stream",
     "text": [
      "17\n"
     ]
    }
   ],
   "source": [
    "# This is a simple arithmetic expression to mutiply then add integers\n",
    "x = (3*4)+5\n",
    "print(x)"
   ]
  },
  {
   "cell_type": "code",
   "execution_count": 5,
   "id": "f5901987",
   "metadata": {},
   "outputs": [
    {
     "name": "stdout",
     "output_type": "stream",
     "text": [
      "3.3333333333333335 hours\n"
     ]
    }
   ],
   "source": [
    "# This will convert 200 minutes to hours by dividing by 60\n",
    "y = 200/60\n",
    "print(f\"{y} hours\")"
   ]
  },
  {
   "cell_type": "markdown",
   "id": "aeab3fa6",
   "metadata": {},
   "source": [
    "## Author"
   ]
  },
  {
   "cell_type": "markdown",
   "id": "da927aea",
   "metadata": {},
   "source": [
    "Tejasa Bhatnagar"
   ]
  }
 ],
 "metadata": {
  "kernelspec": {
   "display_name": "Python 3 (ipykernel)",
   "language": "python",
   "name": "python3"
  },
  "language_info": {
   "codemirror_mode": {
    "name": "ipython",
    "version": 3
   },
   "file_extension": ".py",
   "mimetype": "text/x-python",
   "name": "python",
   "nbconvert_exporter": "python",
   "pygments_lexer": "ipython3",
   "version": "3.9.7"
  }
 },
 "nbformat": 4,
 "nbformat_minor": 5
}
